{
 "cells": [
  {
   "cell_type": "markdown",
   "metadata": {},
   "source": [
    "## Table of Contents\n",
    "\n",
    "1. [Simulating Returns](#simulating-returns)  \n",
    "2. [Running the Test](#running-the-test)  \n",
    "3. [Visualizations](#visualizations)  \n",
    "    3.1 [Distribution under $H_0$](#distribution-under-$H_0$)  \n",
    "    3.2 [Distribution under alternative $H_1 : \\alpha \\sim \\mathcal{N}(0, 1)$](distribution-under-alternative-$H_1:\\alpha\\sim\\mathcal{N}(0,1)$)"
   ]
  },
  {
   "cell_type": "markdown",
   "metadata": {},
   "source": [
    "## Simulating Returns\n"
   ]
  },
  {
   "cell_type": "code",
   "execution_count": 1,
   "metadata": {},
   "outputs": [],
   "source": [
    "import sys\n",
    "sys.path.append('..')\n",
    "\n",
    "import numpy as np\n",
    "import matplotlib.pyplot as plt\n",
    "\n",
    "from tqdm import tqdm\n",
    "\n",
    "from simulate.simulate_returns import simulate_returns\n",
    "from tests.CKMS                import CKMS"
   ]
  },
  {
   "cell_type": "code",
   "execution_count": 2,
   "metadata": {},
   "outputs": [],
   "source": [
    "P             = 1000                #Number of assets\n",
    "T             = 1000                #Number of observations\n",
    "L             = 1                   #Number of factors \n",
    "sigma_p_sqrt  = np.eye(P)           #Covariance structure of residuals\n",
    "mu_f          = np.array([[0.07]])  #Mean of factors\n",
    "sigma_f       = np.array([[0.14]])  #Covariance of factors\n",
    "\n",
    "R, R_f, Beta, Alpha, _ = simulate_returns(p = P,\n",
    "                                          t = T,\n",
    "                                          l = L,\n",
    "                                          mu_f = mu_f,\n",
    "                                          sigma_f_sqrt= sigma_f,\n",
    "                                          sigma_p_sqrt = sigma_p_sqrt)"
   ]
  },
  {
   "cell_type": "markdown",
   "metadata": {},
   "source": [
    "## Running the Test\n"
   ]
  },
  {
   "cell_type": "code",
   "execution_count": 3,
   "metadata": {},
   "outputs": [
    {
     "name": "stdout",
     "output_type": "stream",
     "text": [
      "+----------------+-----------------------------------------+---------------------+\n",
      "|   Statistic    |             Values on grid              | Value for optimal z |\n",
      "+----------------+-----------------------------------------+---------------------+\n",
      "|       P        |                  1000                   |                     |\n",
      "|       T        |                  1000                   |                     |\n",
      "|       L        |                    1                    |                     |\n",
      "|       c        |                   1.0                   |                     |\n",
      "|     Best z     |                198.2814                 |      198.2814       |\n",
      "| Test Statistic | [[17063.26 21219.6  21887.36 21893.14]] |      21893.14       |\n",
      "|    P-Value     |             [[0. 0. 0. 0.]]             |         0.0         |\n",
      "+----------------+-----------------------------------------+---------------------+\n",
      "Initial Grid:[  0.1   1.   10.  100. ]\n",
      "Adjusted z Grid:[  0.19828145   1.98281445  19.82814455 198.28144549]\n"
     ]
    }
   ],
   "source": [
    "tilde_z_grid = np.array([0.1, 1, 10, 100])\n",
    "test = CKMS(z = tilde_z_grid)\n",
    "test.test(r = R,\n",
    "          r_f = R_f,\n",
    "          adjust_grid = True,\n",
    "          find_optimal_z = True)\n",
    "print(test.summary())"
   ]
  },
  {
   "cell_type": "markdown",
   "metadata": {},
   "source": [
    "## Visualizations"
   ]
  },
  {
   "cell_type": "markdown",
   "metadata": {},
   "source": [
    "### Distribution under $H_0$"
   ]
  },
  {
   "cell_type": "code",
   "execution_count": 9,
   "metadata": {},
   "outputs": [
    {
     "name": "stderr",
     "output_type": "stream",
     "text": [
      "100%|██████████| 1000/1000 [09:21<00:00,  1.78it/s]\n"
     ]
    },
    {
     "data": {
      "image/png": "[encoded data removed]",
      "text/plain": [
       "<Figure size 640x480 with 1 Axes>"
      ]
     },
     "metadata": {},
     "output_type": "display_data"
    }
   ],
   "source": [
    "P = 1000\n",
    "T = 1000\n",
    "L = 1\n",
    "N = 1000\n",
    "\n",
    "sigma_p_sqrt = np.eye(P)\n",
    "mu_f = np.array([[0.07]])\n",
    "sigma_f = np.array([[0.14]])\n",
    "\n",
    "tests = []\n",
    "for i in tqdm(range(N)):\n",
    "    R, R_f, Beta, Alpha, _ = simulate_returns(p = P,\n",
    "                                            t = T,\n",
    "                                            l = L,\n",
    "                                            mu_f = mu_f,\n",
    "                                            sigma_f_sqrt= sigma_f,\n",
    "                                            sigma_p_sqrt = sigma_p_sqrt)\n",
    "    \n",
    "    tester = CKMS(z = [100])\n",
    "    tester.test(R-Alpha, R_f)\n",
    "    tests.append(tester.test_results['test_stat'])\n",
    "    \n",
    "plt.hist(np.array(tests).flatten(), bins = 50)\n",
    "plt.show()"
   ]
  },
  {
   "cell_type": "markdown",
   "metadata": {},
   "source": [
    "### Distribution under alternative $H_1 : \\alpha \\sim \\mathcal{N}(0, 1)$"
   ]
  },
  {
   "cell_type": "code",
   "execution_count": 10,
   "metadata": {},
   "outputs": [
    {
     "name": "stderr",
     "output_type": "stream",
     "text": [
      "100%|██████████| 1000/1000 [08:34<00:00,  1.94it/s]\n"
     ]
    },
    {
     "data": {
      "image/png": "[encoded data removed]",
      "text/plain": [
       "<Figure size 640x480 with 1 Axes>"
      ]
     },
     "metadata": {},
     "output_type": "display_data"
    }
   ],
   "source": [
    "P = 1000\n",
    "T = 1000\n",
    "L = 1\n",
    "N = 1000\n",
    "\n",
    "sigma_p_sqrt = np.eye(P)\n",
    "mu_f = np.array([[0.07]])\n",
    "sigma_f = np.array([[0.14]])\n",
    "\n",
    "tests = []\n",
    "for i in tqdm(range(N)):\n",
    "    R, R_f, Beta, Alpha, _ = simulate_returns(p = P,\n",
    "                                            t = T,\n",
    "                                            l = L,\n",
    "                                            mu_f = mu_f,\n",
    "                                            sigma_f_sqrt= sigma_f,\n",
    "                                            sigma_p_sqrt = sigma_p_sqrt)\n",
    "    \n",
    "    tester = CKMS(z = [100])\n",
    "    tester.test(R, R_f)\n",
    "    tests.append(tester.test_results['test_stat'])\n",
    "    \n",
    "plt.hist(np.array(tests).flatten(), bins = 50)\n",
    "plt.show()"
   ]
  }
 ],
 "metadata": {
  "kernelspec": {
   "display_name": "CKMS",
   "language": "python",
   "name": "python3"
  },
  "language_info": {
   "codemirror_mode": {
    "name": "ipython",
    "version": 3
   },
   "file_extension": ".py",
   "mimetype": "text/x-python",
   "name": "python",
   "nbconvert_exporter": "python",
   "pygments_lexer": "ipython3",
   "version": "3.13.2"
  }
 },
 "nbformat": 4,
 "nbformat_minor": 2
}
